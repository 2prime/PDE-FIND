{
 "cells": [
  {
   "cell_type": "markdown",
   "metadata": {},
   "source": [
    "# Identifying the diffusion equation from a random walk\n",
    "\n",
    "Samuel Rudy, 2016\n",
    "\n",
    "Here we take various lengths of a random walk where $x_{j+1} \\sim \\mathcal{N}(x_j, dt)$ and see if we can identify the diffusion equation.  As expected, it works better for longer series."
   ]
  },
  {
   "cell_type": "code",
   "execution_count": 1,
   "metadata": {
    "collapsed": false
   },
   "outputs": [
    {
     "name": "stdout",
     "output_type": "stream",
     "text": [
      "Populating the interactive namespace from numpy and matplotlib\n"
     ]
    }
   ],
   "source": [
    "%pylab inline\n",
    "pylab.rcParams['figure.figsize'] = (15,10)\n",
    "import numpy as np\n",
    "from PDE_FIND import *"
   ]
  },
  {
   "cell_type": "code",
   "execution_count": 2,
   "metadata": {
    "collapsed": false,
    "scrolled": false
   },
   "outputs": [
    {
     "name": "stdout",
     "output_type": "stream",
     "text": [
      "Length of time series used:  100\n",
      "u_t = (-0.000955 +0.000000i)\n",
      "    + (-0.000278 +0.000000i)u\n",
      "    + (-0.000000 +0.000000i)u^2\n",
      "    + (0.000344 +0.000000i)u_{x}\n",
      "    + (0.000000 +0.000000i)uu_{x}\n",
      "    + (0.000000 +0.000000i)u^2u_{x}\n",
      "    + (0.015266 +0.000000i)u_{xx}\n",
      "    + (0.000007 +0.000000i)uu_{xx}\n",
      "    + (0.000000 +0.000000i)u^2u_{xx}\n",
      "   \n",
      "Length of time series used:  146\n",
      "u_t = (2967025.899935 +0.000000i)u^2u_{xx}\n",
      "   \n",
      "Length of time series used:  215\n",
      "u_t = (-37280.037139 -0.000000i)u^2\n",
      "   \n",
      "Length of time series used:  316\n",
      "u_t = (0.264304 +0.000000i)u_{xx}\n",
      "   \n",
      "Length of time series used:  464\n",
      "u_t = (0.219999 -0.000000i)u_{xx}\n",
      "   \n",
      "Length of time series used:  681\n",
      "u_t = (-2776.590480 +0.000000i)u^2\n",
      "    + (753361.027273 +0.000000i)u^2u_{x}\n",
      "    + (44530.930961 +0.000000i)u^2u_{xx}\n",
      "   \n",
      "Length of time series used:  1000\n",
      "u_t = (0.193763 -0.000000i)u_{xx}\n",
      "   \n",
      "Length of time series used:  1467\n",
      "u_t = (0.283764 +0.000000i)u_{xx}\n",
      "   \n",
      "Length of time series used:  2154\n",
      "u_t = (0.334089 +0.000000i)u_{xx}\n",
      "   \n",
      "Length of time series used:  3162\n",
      "u_t = (0.420295 +0.000000i)u_{xx}\n",
      "   \n",
      "Length of time series used:  4641\n",
      "u_t = (0.424672 +0.000000i)u_{xx}\n",
      "   \n",
      "Length of time series used:  6812\n",
      "u_t = (0.438753 -0.000000i)u_{xx}\n",
      "   \n",
      "Length of time series used:  10000\n",
      "u_t = (0.443461 +0.000000i)u_{xx}\n",
      "   \n",
      "Length of time series used:  14677\n",
      "u_t = (0.462620 +0.000000i)u_{xx}\n",
      "   \n",
      "Length of time series used:  21544\n",
      "u_t = (0.471480 +0.000000i)u_{xx}\n",
      "   \n",
      "Length of time series used:  31622\n",
      "u_t = (0.469843 +0.000000i)u_{xx}\n",
      "   \n",
      "Length of time series used:  46415\n",
      "u_t = (0.469987 -0.000000i)u_{xx}\n",
      "   \n",
      "Length of time series used:  68129\n",
      "u_t = (0.475732 -0.000000i)u_{xx}\n",
      "   \n",
      "Length of time series used:  100000\n",
      "u_t = (0.475065 +0.000000i)u_{xx}\n",
      "   \n",
      "Length of time series used:  146779\n",
      "u_t = (0.477197 +0.000000i)u_{xx}\n",
      "   \n",
      "Length of time series used:  215443\n",
      "u_t = (0.468989 +0.000000i)u_{xx}\n",
      "   \n",
      "Length of time series used:  316227\n",
      "u_t = (0.471913 +0.000000i)u_{xx}\n",
      "   \n",
      "Length of time series used:  464158\n",
      "u_t = (0.482239 +0.000000i)u_{xx}\n",
      "   \n",
      "Length of time series used:  681292\n",
      "u_t = (0.497408 +0.000000i)u_{xx}\n",
      "   \n",
      "Length of time series used:  1000000\n",
      "u_t = (0.497616 +0.000000i)u_{xx}\n",
      "   \n"
     ]
    }
   ],
   "source": [
    "# set seed = 0\n",
    "numpy.random.seed(0)\n",
    "\n",
    "N = 24\n",
    "lengths = [int(10**j) for j in 2+np.arange(N+1)*4.0/N]\n",
    "err = {}\n",
    "for l in range(N+1): err[l] = []\n",
    "sparsity_err = np.zeros(len(lengths))\n",
    "trials = 10 \n",
    "w_true = np.array([[0.0],[0.0],[0.0],[0.0],[0.0],[0.0],[0.5],[0.0],[0.0]])\n",
    "\n",
    "for trial in range(trials):\n",
    "    \n",
    "    # generate a new time series\n",
    "    dt = 0.01\n",
    "    advection = 0 # it has some trouble with advection\n",
    "    pos = np.cumsum(np.sqrt(dt)*np.random.randn(lengths[-1])) + dt*advection*np.arange(lengths[-1])\n",
    "\n",
    "    # fit various lengths of it to a pde\n",
    "    for l in range(len(lengths)):\n",
    "\n",
    "        length = lengths[l]\n",
    "        P = {}\n",
    "        M = 0\n",
    "        m = 5\n",
    "        \n",
    "        # More bins for longer time series.  We just need to make sure there aren't too many bins for how many points we have\n",
    "        n = int(10*log10(length)**2)\n",
    "        for j in range(m): P[j] = []\n",
    "\n",
    "        for i in range(length-m):\n",
    "\n",
    "            # center\n",
    "            y = pos[i+1:i+m+1] - pos[i]\n",
    "            M = max([M, max(abs(y))])\n",
    "\n",
    "            # add to distribution\n",
    "            for j in range(m):\n",
    "                P[j].append(y[j])\n",
    "\n",
    "        bins = np.linspace(-M,M,n+1)\n",
    "        x = linspace(M*(1/n-1),M*(1-1/n),n)\n",
    "        dx = x[2]-x[1]\n",
    "        \n",
    "        U = np.zeros((n,m))\n",
    "        for i in range(m):\n",
    "            U[:,i] = np.histogram(P[i],bins)[0]/float(dx*(len(pos)-m))\n",
    "\n",
    "        Ut,R,rhs_des = build_linear_system(U, dt, dx, D=2, P=2, time_diff = 'FD', deg_x = 4, width_x = np.max([10,n/10]))\n",
    "        lam = 10**-3*length\n",
    "        d_tol_2 = 0.001/dx #*log10(length)\n",
    "        d_tol_0 = 0.001/dx #*log10(length)\n",
    "        \n",
    "        # Try two different normalizations and see which one performs better.  They should get the same answer for most of \n",
    "        # the longer runs.\n",
    "        split = 0.9\n",
    "        N = len(Ut)\n",
    "        train = np.random.choice(N, int(N*split), replace = False)\n",
    "        test = [i for i in np.arange(N) if i not in train]\n",
    "        \n",
    "        w2 = TrainSTRidge(R[train,:], Ut[train], lam, d_tol_2, normalize = 2)\n",
    "        w0 = TrainSTRidge(R[train,:], Ut[train], lam, d_tol_0, normalize = 0)\n",
    "                \n",
    "        err2 = np.linalg.norm(Ut[test] - R[test,:].dot(w2)) + 0.01*np.linalg.norm(Ut[test], 2)*np.count_nonzero(w2)\n",
    "        err0 = np.linalg.norm(Ut[test] - R[test,:].dot(w0)) + 0.01*np.linalg.norm(Ut[test], 2)*np.count_nonzero(w0)\n",
    "        \n",
    "        w = [w0,w2]\n",
    "        error = [err0,err2]\n",
    "        method = argmin(error)\n",
    "        w_r = w[method]\n",
    "        err[l].append(np.linalg.norm(w_r - w_true, 1))\n",
    "\n",
    "        if trial == 0:\n",
    "            print \"Length of time series used: \", length\n",
    "#             print \"Condition Number: \", cond(R)\n",
    "#             print \"Regularization: \", ['unregularized','2 norm'][method] \n",
    "            print_pde(w_r, rhs_des)\n",
    "        \n",
    "        w_r = np.array(w_r)\n",
    "        sparsity_err[l] += float(len(np.where(w_r[0:5] != 0)[0]) + len(np.where(w_r[7:8] != 0)[0]) + int(w_r[6] == 0))/trials\n",
    "        \n",
    "# print err\n",
    "# print sparsity_err"
   ]
  },
  {
   "cell_type": "code",
   "execution_count": 3,
   "metadata": {
    "collapsed": false
   },
   "outputs": [
    {
     "data": {
      "text/plain": [
       "<matplotlib.text.Text at 0x7f900aee8590>"
      ]
     },
     "execution_count": 3,
     "metadata": {},
     "output_type": "execute_result"
    },
    {
     "data": {
      "image/png": "[encoded data removed]",
      "text/plain": [
       "<matplotlib.figure.Figure at 0x7f900ac33790>"
      ]
     },
     "metadata": {},
     "output_type": "display_data"
    }
   ],
   "source": [
    "# pylab.rcParams['figure.figsize'] = (3.5,1.7)\n",
    "err2 = [np.mean(j) for _,j in err.items()]\n",
    "min_len = np.max(np.where(np.array(err2) >= 0.5))+1\n",
    "\n",
    "loglog(lengths[0:min_len], err2[0:min_len], 'x', color = 'r', mew=2, ms=5)\n",
    "loglog(lengths[min_len:], err2[min_len:], 'o', color = 'b', ms = 5)\n",
    "yticks([10**-3,10**-1,10**1,10**3,10**5, 10**7], fontsize = 12)\n",
    "xticks([10**3,10**5], fontsize = 12)\n",
    "\n",
    "pareto_front = lengths[min_len]/10**(1.0/12)\n",
    "axvspan(100,pareto_front, alpha=0.3, color='gray')\n",
    "xlabel('Length of Time series', fontsize = 16)\n",
    "ylabel(r'Average $\\ell^1$ parameter error', fontsize = 16)\n",
    "title('Parameter error for diffusion equation', fontsize = 20)"
   ]
  },
  {
   "cell_type": "code",
   "execution_count": null,
   "metadata": {
    "collapsed": true
   },
   "outputs": [],
   "source": []
  }
 ],
 "metadata": {
  "anaconda-cloud": {},
  "kernelspec": {
   "display_name": "Python 2",
   "language": "python",
   "name": "python2"
  },
  "language_info": {
   "codemirror_mode": {
    "name": "ipython",
    "version": 2
   },
   "file_extension": ".py",
   "mimetype": "text/x-python",
   "name": "python",
   "nbconvert_exporter": "python",
   "pygments_lexer": "ipython2",
   "version": "2.7.12"
  }
 },
 "nbformat": 4,
 "nbformat_minor": 0
}
